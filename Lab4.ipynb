{
 "cells": [
  {
   "cell_type": "code",
   "execution_count": null,
   "id": "3a24b566",
   "metadata": {},
   "outputs": [],
   "source": [
    "import pandas\n",
    "import configparser\n",
    "import psycopg2"
   ]
  },
  {
   "cell_type": "code",
   "execution_count": 21,
   "id": "6548fa99",
   "metadata": {},
   "outputs": [],
   "source": [
    "config = configparser.ConfigParser()\n",
    "config.read('config.ini')\n",
    "\n",
    "host = config['myaws']['host']\n",
    "db = config['myaws']['db']\n",
    "user = config['myaws']['user']\n",
    "pwd = config['myaws']['pwd']"
   ]
  },
  {
   "cell_type": "code",
   "execution_count": 22,
   "id": "fc0a1bc9",
   "metadata": {},
   "outputs": [],
   "source": [
    "conn = psycopg2.connect(host = host,\n",
    "                       user = user, \n",
    "                       password =pwd, \n",
    "                       dbname = db)"
   ]
  },
  {
   "cell_type": "code",
   "execution_count": 23,
   "id": "977815ed",
   "metadata": {},
   "outputs": [],
   "source": [
    "\n",
    "#Q1\n",
    "sql = \"\"\" select * from student\"\"\""
   ]
  },
  {
   "cell_type": "code",
   "execution_count": 24,
   "id": "3190cf17",
   "metadata": {},
   "outputs": [
    {
     "name": "stderr",
     "output_type": "stream",
     "text": [
      "/tmp/ipykernel_8470/3166211841.py:1: UserWarning: pandas only supports SQLAlchemy connectable (engine/connection) or database string URI or sqlite3 DBAPI2 connection. Other DBAPI2 objects are not tested. Please consider using SQLAlchemy.\n",
      "  df = pandas.read_sql_query(sql, conn)\n"
     ]
    },
    {
     "data": {
      "text/html": [
       "<div>\n",
       "<style scoped>\n",
       "    .dataframe tbody tr th:only-of-type {\n",
       "        vertical-align: middle;\n",
       "    }\n",
       "\n",
       "    .dataframe tbody tr th {\n",
       "        vertical-align: top;\n",
       "    }\n",
       "\n",
       "    .dataframe thead th {\n",
       "        text-align: right;\n",
       "    }\n",
       "</style>\n",
       "<table border=\"1\" class=\"dataframe\">\n",
       "  <thead>\n",
       "    <tr style=\"text-align: right;\">\n",
       "      <th></th>\n",
       "      <th>s_email</th>\n",
       "      <th>s_name</th>\n",
       "      <th>major</th>\n",
       "    </tr>\n",
       "  </thead>\n",
       "  <tbody>\n",
       "    <tr>\n",
       "      <th>0</th>\n",
       "      <td>s1@jmu.edu</td>\n",
       "      <td>s1</td>\n",
       "      <td>IA</td>\n",
       "    </tr>\n",
       "    <tr>\n",
       "      <th>1</th>\n",
       "      <td>s2@jmu.edu</td>\n",
       "      <td>s2</td>\n",
       "      <td>IA</td>\n",
       "    </tr>\n",
       "    <tr>\n",
       "      <th>2</th>\n",
       "      <td>s3@jmu.edu</td>\n",
       "      <td>s3</td>\n",
       "      <td>ISAT</td>\n",
       "    </tr>\n",
       "    <tr>\n",
       "      <th>3</th>\n",
       "      <td>s4@jmu.edu</td>\n",
       "      <td>s4</td>\n",
       "      <td>ISAT</td>\n",
       "    </tr>\n",
       "    <tr>\n",
       "      <th>4</th>\n",
       "      <td>s5@jmu.edu</td>\n",
       "      <td>s5</td>\n",
       "      <td>IA</td>\n",
       "    </tr>\n",
       "  </tbody>\n",
       "</table>\n",
       "</div>"
      ],
      "text/plain": [
       "      s_email s_name major\n",
       "0  s1@jmu.edu     s1    IA\n",
       "1  s2@jmu.edu     s2    IA\n",
       "2  s3@jmu.edu     s3  ISAT\n",
       "3  s4@jmu.edu     s4  ISAT\n",
       "4  s5@jmu.edu     s5    IA"
      ]
     },
     "execution_count": 24,
     "metadata": {},
     "output_type": "execute_result"
    }
   ],
   "source": [
    "df = pandas.read_sql_query(sql, conn)\n",
    "df[:]"
   ]
  },
  {
   "cell_type": "code",
   "execution_count": 29,
   "id": "c7173cc3",
   "metadata": {},
   "outputs": [],
   "source": [
    "sql = \"\"\"select professor.p_name, course.c_name\n",
    "        from professor\n",
    "        inner join course\n",
    "        on professor.p_email = course.p_email\"\"\""
   ]
  },
  {
   "cell_type": "code",
   "execution_count": 30,
   "id": "d611cdb5",
   "metadata": {},
   "outputs": [
    {
     "name": "stderr",
     "output_type": "stream",
     "text": [
      "/tmp/ipykernel_8470/647199877.py:1: UserWarning: pandas only supports SQLAlchemy connectable (engine/connection) or database string URI or sqlite3 DBAPI2 connection. Other DBAPI2 objects are not tested. Please consider using SQLAlchemy.\n",
      "  df = pandas.read_sql_query(sql, conn)\n"
     ]
    },
    {
     "data": {
      "text/html": [
       "<div>\n",
       "<style scoped>\n",
       "    .dataframe tbody tr th:only-of-type {\n",
       "        vertical-align: middle;\n",
       "    }\n",
       "\n",
       "    .dataframe tbody tr th {\n",
       "        vertical-align: top;\n",
       "    }\n",
       "\n",
       "    .dataframe thead th {\n",
       "        text-align: right;\n",
       "    }\n",
       "</style>\n",
       "<table border=\"1\" class=\"dataframe\">\n",
       "  <thead>\n",
       "    <tr style=\"text-align: right;\">\n",
       "      <th></th>\n",
       "      <th>p_name</th>\n",
       "      <th>c_name</th>\n",
       "    </tr>\n",
       "  </thead>\n",
       "  <tbody>\n",
       "    <tr>\n",
       "      <th>0</th>\n",
       "      <td>p2</td>\n",
       "      <td>mongodb</td>\n",
       "    </tr>\n",
       "    <tr>\n",
       "      <th>1</th>\n",
       "      <td>p3</td>\n",
       "      <td>facebook</td>\n",
       "    </tr>\n",
       "    <tr>\n",
       "      <th>2</th>\n",
       "      <td>p3</td>\n",
       "      <td>postgresql</td>\n",
       "    </tr>\n",
       "    <tr>\n",
       "      <th>3</th>\n",
       "      <td>p3</td>\n",
       "      <td>twitter</td>\n",
       "    </tr>\n",
       "  </tbody>\n",
       "</table>\n",
       "</div>"
      ],
      "text/plain": [
       "  p_name      c_name\n",
       "0     p2     mongodb\n",
       "1     p3    facebook\n",
       "2     p3  postgresql\n",
       "3     p3     twitter"
      ]
     },
     "execution_count": 30,
     "metadata": {},
     "output_type": "execute_result"
    }
   ],
   "source": [
    "df = pandas.read_sql_query(sql, conn)\n",
    "df[:10]"
   ]
  },
  {
   "cell_type": "code",
   "execution_count": 31,
   "id": "b364ffb2",
   "metadata": {},
   "outputs": [],
   "source": [
    "sql = \"\"\"select p_name, c_name\n",
    "        from professor, course\"\"\""
   ]
  },
  {
   "cell_type": "code",
   "execution_count": 32,
   "id": "1f18d602",
   "metadata": {},
   "outputs": [
    {
     "name": "stderr",
     "output_type": "stream",
     "text": [
      "/tmp/ipykernel_8470/647199877.py:1: UserWarning: pandas only supports SQLAlchemy connectable (engine/connection) or database string URI or sqlite3 DBAPI2 connection. Other DBAPI2 objects are not tested. Please consider using SQLAlchemy.\n",
      "  df = pandas.read_sql_query(sql, conn)\n"
     ]
    },
    {
     "data": {
      "text/html": [
       "<div>\n",
       "<style scoped>\n",
       "    .dataframe tbody tr th:only-of-type {\n",
       "        vertical-align: middle;\n",
       "    }\n",
       "\n",
       "    .dataframe tbody tr th {\n",
       "        vertical-align: top;\n",
       "    }\n",
       "\n",
       "    .dataframe thead th {\n",
       "        text-align: right;\n",
       "    }\n",
       "</style>\n",
       "<table border=\"1\" class=\"dataframe\">\n",
       "  <thead>\n",
       "    <tr style=\"text-align: right;\">\n",
       "      <th></th>\n",
       "      <th>p_name</th>\n",
       "      <th>c_name</th>\n",
       "    </tr>\n",
       "  </thead>\n",
       "  <tbody>\n",
       "    <tr>\n",
       "      <th>0</th>\n",
       "      <td>p2</td>\n",
       "      <td>mongodb</td>\n",
       "    </tr>\n",
       "    <tr>\n",
       "      <th>1</th>\n",
       "      <td>p2</td>\n",
       "      <td>facebook</td>\n",
       "    </tr>\n",
       "    <tr>\n",
       "      <th>2</th>\n",
       "      <td>p2</td>\n",
       "      <td>postgresql</td>\n",
       "    </tr>\n",
       "    <tr>\n",
       "      <th>3</th>\n",
       "      <td>p2</td>\n",
       "      <td>twitter</td>\n",
       "    </tr>\n",
       "    <tr>\n",
       "      <th>4</th>\n",
       "      <td>p3</td>\n",
       "      <td>mongodb</td>\n",
       "    </tr>\n",
       "    <tr>\n",
       "      <th>5</th>\n",
       "      <td>p3</td>\n",
       "      <td>facebook</td>\n",
       "    </tr>\n",
       "    <tr>\n",
       "      <th>6</th>\n",
       "      <td>p3</td>\n",
       "      <td>postgresql</td>\n",
       "    </tr>\n",
       "    <tr>\n",
       "      <th>7</th>\n",
       "      <td>p3</td>\n",
       "      <td>twitter</td>\n",
       "    </tr>\n",
       "  </tbody>\n",
       "</table>\n",
       "</div>"
      ],
      "text/plain": [
       "  p_name      c_name\n",
       "0     p2     mongodb\n",
       "1     p2    facebook\n",
       "2     p2  postgresql\n",
       "3     p2     twitter\n",
       "4     p3     mongodb\n",
       "5     p3    facebook\n",
       "6     p3  postgresql\n",
       "7     p3     twitter"
      ]
     },
     "execution_count": 32,
     "metadata": {},
     "output_type": "execute_result"
    }
   ],
   "source": [
    "df = pandas.read_sql_query(sql, conn)\n",
    "df[:10]"
   ]
  },
  {
   "cell_type": "code",
   "execution_count": 38,
   "id": "2dccd1eb",
   "metadata": {},
   "outputs": [],
   "source": [
    "sql = \"\"\"select c_number, count(*) as num_student\n",
    "        from enroll\n",
    "        group by c_number\n",
    "        order by num_student desc\"\"\""
   ]
  },
  {
   "cell_type": "code",
   "execution_count": 39,
   "id": "2db4b87b",
   "metadata": {},
   "outputs": [
    {
     "name": "stderr",
     "output_type": "stream",
     "text": [
      "/tmp/ipykernel_8470/747274001.py:1: UserWarning: pandas only supports SQLAlchemy connectable (engine/connection) or database string URI or sqlite3 DBAPI2 connection. Other DBAPI2 objects are not tested. Please consider using SQLAlchemy.\n",
      "  df = pandas.read_sql_query(sql, conn)\n"
     ]
    },
    {
     "data": {
      "text/plain": [
       "<Axes: xlabel='c_number'>"
      ]
     },
     "execution_count": 39,
     "metadata": {},
     "output_type": "execute_result"
    },
    {
     "data": {
      "image/png": "[encoded data removed]",
      "text/plain": [
       "<Figure size 640x480 with 1 Axes>"
      ]
     },
     "metadata": {},
     "output_type": "display_data"
    }
   ],
   "source": [
    "df = pandas.read_sql_query(sql, conn)\n",
    "df.plot.bar(x='c_number',y='num_student')"
   ]
  },
  {
   "cell_type": "code",
   "execution_count": 49,
   "id": "42c79be2",
   "metadata": {},
   "outputs": [],
   "source": [
    "sql = \"\"\"select professor.p_name, count(course.c_number) as num_courses\n",
    "        from professor\n",
    "        inner join course on professor.p_email = course.p_email\n",
    "        group by professor.p_name\n",
    "        order by num_courses desc\"\"\""
   ]
  },
  {
   "cell_type": "code",
   "execution_count": 50,
   "id": "2e71c963",
   "metadata": {},
   "outputs": [
    {
     "name": "stderr",
     "output_type": "stream",
     "text": [
      "/tmp/ipykernel_8470/3923700695.py:1: UserWarning: pandas only supports SQLAlchemy connectable (engine/connection) or database string URI or sqlite3 DBAPI2 connection. Other DBAPI2 objects are not tested. Please consider using SQLAlchemy.\n",
      "  df = pandas.read_sql_query(sql, conn)\n"
     ]
    },
    {
     "data": {
      "text/plain": [
       "<Axes: xlabel='p_name'>"
      ]
     },
     "execution_count": 50,
     "metadata": {},
     "output_type": "execute_result"
    },
    {
     "data": {
      "image/png": "[encoded data removed]",
      "text/plain": [
       "<Figure size 640x480 with 1 Axes>"
      ]
     },
     "metadata": {},
     "output_type": "display_data"
    }
   ],
   "source": [
    "df = pandas.read_sql_query(sql, conn)\n",
    "df.plot.bar(x='p_name',y='num_courses')"
   ]
  },
  {
   "cell_type": "code",
   "execution_count": 101,
   "id": "dd3fdfe0",
   "metadata": {},
   "outputs": [],
   "source": [
    "\n",
    "cur = conn.cursor()\n"
   ]
  },
  {
   "cell_type": "code",
   "execution_count": 102,
   "id": "25321a42",
   "metadata": {},
   "outputs": [],
   "source": [
    "sql = \"\"\"insert into professor(p_email,p_name,office)\n",
    "        values('p4@jmu.edu','p4','o4')\"\"\"\n",
    "\n",
    "        "
   ]
  },
  {
   "cell_type": "code",
   "execution_count": 103,
   "id": "ac8a002e",
   "metadata": {},
   "outputs": [
    {
     "ename": "UniqueViolation",
     "evalue": "duplicate key value violates unique constraint \"professor_pkey\"\nDETAIL:  Key (p_email)=(p4@jmu.edu) already exists.\n",
     "output_type": "error",
     "traceback": [
      "\u001b[0;31m---------------------------------------------------------------------------\u001b[0m",
      "\u001b[0;31mUniqueViolation\u001b[0m                           Traceback (most recent call last)",
      "Cell \u001b[0;32mIn[103], line 1\u001b[0m\n\u001b[0;32m----> 1\u001b[0m \u001b[43mcur\u001b[49m\u001b[38;5;241;43m.\u001b[39;49m\u001b[43mexecute\u001b[49m\u001b[43m(\u001b[49m\u001b[43msql\u001b[49m\u001b[43m)\u001b[49m\n",
      "\u001b[0;31mUniqueViolation\u001b[0m: duplicate key value violates unique constraint \"professor_pkey\"\nDETAIL:  Key (p_email)=(p4@jmu.edu) already exists.\n"
     ]
    }
   ],
   "source": [
    "cur.execute(sql)\n"
   ]
  },
  {
   "cell_type": "code",
   "execution_count": 104,
   "id": "22c720d6",
   "metadata": {},
   "outputs": [],
   "source": [
    "conn.commit()"
   ]
  },
  {
   "cell_type": "code",
   "execution_count": 105,
   "id": "5a5a47b0",
   "metadata": {},
   "outputs": [
    {
     "name": "stderr",
     "output_type": "stream",
     "text": [
      "/tmp/ipykernel_8470/4162971110.py:1: UserWarning: pandas only supports SQLAlchemy connectable (engine/connection) or database string URI or sqlite3 DBAPI2 connection. Other DBAPI2 objects are not tested. Please consider using SQLAlchemy.\n",
      "  df = pandas.read_sql_query('select * from professor', conn)\n"
     ]
    },
    {
     "data": {
      "text/html": [
       "<div>\n",
       "<style scoped>\n",
       "    .dataframe tbody tr th:only-of-type {\n",
       "        vertical-align: middle;\n",
       "    }\n",
       "\n",
       "    .dataframe tbody tr th {\n",
       "        vertical-align: top;\n",
       "    }\n",
       "\n",
       "    .dataframe thead th {\n",
       "        text-align: right;\n",
       "    }\n",
       "</style>\n",
       "<table border=\"1\" class=\"dataframe\">\n",
       "  <thead>\n",
       "    <tr style=\"text-align: right;\">\n",
       "      <th></th>\n",
       "      <th>p_email</th>\n",
       "      <th>p_name</th>\n",
       "      <th>office</th>\n",
       "    </tr>\n",
       "  </thead>\n",
       "  <tbody>\n",
       "    <tr>\n",
       "      <th>0</th>\n",
       "      <td>p2@jmu.edu</td>\n",
       "      <td>p2</td>\n",
       "      <td>o2</td>\n",
       "    </tr>\n",
       "    <tr>\n",
       "      <th>1</th>\n",
       "      <td>p3@jmu.edu</td>\n",
       "      <td>p3</td>\n",
       "      <td>o3</td>\n",
       "    </tr>\n",
       "    <tr>\n",
       "      <th>2</th>\n",
       "      <td>p4@jmu.edu</td>\n",
       "      <td>p4</td>\n",
       "      <td>o4</td>\n",
       "    </tr>\n",
       "  </tbody>\n",
       "</table>\n",
       "</div>"
      ],
      "text/plain": [
       "      p_email p_name office\n",
       "0  p2@jmu.edu     p2     o2\n",
       "1  p3@jmu.edu     p3     o3\n",
       "2  p4@jmu.edu     p4     o4"
      ]
     },
     "execution_count": 105,
     "metadata": {},
     "output_type": "execute_result"
    }
   ],
   "source": [
    "df = pandas.read_sql_query('select * from professor', conn)\n",
    "df[:]\n"
   ]
  },
  {
   "cell_type": "code",
   "execution_count": 106,
   "id": "ee8c0d19",
   "metadata": {},
   "outputs": [],
   "source": [
    "sql = \"\"\"insert into course(c_number,c_name,room,p_email)\n",
    "        values('c5','linkedin','r2','p4@jmu.edu')\"\"\"\n"
   ]
  },
  {
   "cell_type": "code",
   "execution_count": 107,
   "id": "9bb12b22",
   "metadata": {},
   "outputs": [
    {
     "ename": "UniqueViolation",
     "evalue": "duplicate key value violates unique constraint \"course_pkey\"\nDETAIL:  Key (c_number)=(c5) already exists.\n",
     "output_type": "error",
     "traceback": [
      "\u001b[0;31m---------------------------------------------------------------------------\u001b[0m",
      "\u001b[0;31mUniqueViolation\u001b[0m                           Traceback (most recent call last)",
      "Cell \u001b[0;32mIn[107], line 1\u001b[0m\n\u001b[0;32m----> 1\u001b[0m \u001b[43mcur\u001b[49m\u001b[38;5;241;43m.\u001b[39;49m\u001b[43mexecute\u001b[49m\u001b[43m(\u001b[49m\u001b[43msql\u001b[49m\u001b[43m)\u001b[49m\n",
      "\u001b[0;31mUniqueViolation\u001b[0m: duplicate key value violates unique constraint \"course_pkey\"\nDETAIL:  Key (c_number)=(c5) already exists.\n"
     ]
    }
   ],
   "source": [
    "cur.execute(sql)\n"
   ]
  },
  {
   "cell_type": "code",
   "execution_count": 108,
   "id": "f2c85428",
   "metadata": {},
   "outputs": [],
   "source": [
    "conn.commit()"
   ]
  },
  {
   "cell_type": "code",
   "execution_count": 109,
   "id": "928592ae",
   "metadata": {},
   "outputs": [
    {
     "name": "stderr",
     "output_type": "stream",
     "text": [
      "/tmp/ipykernel_8470/4092952724.py:1: UserWarning: pandas only supports SQLAlchemy connectable (engine/connection) or database string URI or sqlite3 DBAPI2 connection. Other DBAPI2 objects are not tested. Please consider using SQLAlchemy.\n",
      "  df = pandas.read_sql_query('select * from course', conn)\n"
     ]
    },
    {
     "data": {
      "text/html": [
       "<div>\n",
       "<style scoped>\n",
       "    .dataframe tbody tr th:only-of-type {\n",
       "        vertical-align: middle;\n",
       "    }\n",
       "\n",
       "    .dataframe tbody tr th {\n",
       "        vertical-align: top;\n",
       "    }\n",
       "\n",
       "    .dataframe thead th {\n",
       "        text-align: right;\n",
       "    }\n",
       "</style>\n",
       "<table border=\"1\" class=\"dataframe\">\n",
       "  <thead>\n",
       "    <tr style=\"text-align: right;\">\n",
       "      <th></th>\n",
       "      <th>c_number</th>\n",
       "      <th>c_name</th>\n",
       "      <th>room</th>\n",
       "      <th>p_email</th>\n",
       "    </tr>\n",
       "  </thead>\n",
       "  <tbody>\n",
       "    <tr>\n",
       "      <th>0</th>\n",
       "      <td>c2</td>\n",
       "      <td>mongodb</td>\n",
       "      <td>r2</td>\n",
       "      <td>p2@jmu.edu</td>\n",
       "    </tr>\n",
       "    <tr>\n",
       "      <th>1</th>\n",
       "      <td>c4</td>\n",
       "      <td>facebook</td>\n",
       "      <td>r1</td>\n",
       "      <td>p3@jmu.edu</td>\n",
       "    </tr>\n",
       "    <tr>\n",
       "      <th>2</th>\n",
       "      <td>c1</td>\n",
       "      <td>postgresql</td>\n",
       "      <td>r1</td>\n",
       "      <td>p3@jmu.edu</td>\n",
       "    </tr>\n",
       "    <tr>\n",
       "      <th>3</th>\n",
       "      <td>c3</td>\n",
       "      <td>twitter</td>\n",
       "      <td>r1</td>\n",
       "      <td>p3@jmu.edu</td>\n",
       "    </tr>\n",
       "    <tr>\n",
       "      <th>4</th>\n",
       "      <td>c5</td>\n",
       "      <td>linkedin</td>\n",
       "      <td>r2</td>\n",
       "      <td>None</td>\n",
       "    </tr>\n",
       "  </tbody>\n",
       "</table>\n",
       "</div>"
      ],
      "text/plain": [
       "  c_number      c_name room     p_email\n",
       "0       c2     mongodb   r2  p2@jmu.edu\n",
       "1       c4    facebook   r1  p3@jmu.edu\n",
       "2       c1  postgresql   r1  p3@jmu.edu\n",
       "3       c3     twitter   r1  p3@jmu.edu\n",
       "4       c5    linkedin   r2        None"
      ]
     },
     "execution_count": 109,
     "metadata": {},
     "output_type": "execute_result"
    }
   ],
   "source": [
    "df = pandas.read_sql_query('select * from course', conn)\n",
    "df[:]\n"
   ]
  },
  {
   "cell_type": "code",
   "execution_count": 110,
   "id": "b3acb94f",
   "metadata": {},
   "outputs": [],
   "source": [
    "conn.rollback()"
   ]
  },
  {
   "cell_type": "code",
   "execution_count": null,
   "id": "3c41908e",
   "metadata": {},
   "outputs": [],
   "source": []
  },
  {
   "cell_type": "code",
   "execution_count": null,
   "id": "b88b23da",
   "metadata": {},
   "outputs": [],
   "source": []
  }
 ],
 "metadata": {
  "kernelspec": {
   "display_name": "conda_python3",
   "language": "python",
   "name": "conda_python3"
  },
  "language_info": {
   "codemirror_mode": {
    "name": "ipython",
    "version": 3
   },
   "file_extension": ".py",
   "mimetype": "text/x-python",
   "name": "python",
   "nbconvert_exporter": "python",
   "pygments_lexer": "ipython3",
   "version": "3.10.12"
  }
 },
 "nbformat": 4,
 "nbformat_minor": 5
}
